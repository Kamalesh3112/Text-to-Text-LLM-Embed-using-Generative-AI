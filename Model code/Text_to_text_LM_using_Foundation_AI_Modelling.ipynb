{
  "nbformat": 4,
  "nbformat_minor": 0,
  "metadata": {
    "colab": {
      "provenance": []
    },
    "kernelspec": {
      "name": "python3",
      "display_name": "Python 3"
    },
    "language_info": {
      "name": "python"
    }
  },
  "cells": [
    {
      "cell_type": "markdown",
      "source": [
        "## Developing my own Language Model using the API of Cohere Embed LLM\n",
        "\n",
        "### I am using the API of the Embed LLM by Cohere, this language model is powered with RAG and semantic search that increases the accuracy of the model by using my own text data.\n",
        "\n",
        "#### This model performs text generation from the data that it is trained below and analyzes text using emebddings. It has large number of sequence length and limited amount of attention heads.\n",
        "\n",
        "#### It can only able to generate the output in the form of text based on prompt that is given and context window added here is small."
      ],
      "metadata": {
        "id": "BBDtJAEkHW2P"
      }
    },
    {
      "cell_type": "code",
      "source": [
        "pip install cohere"
      ],
      "metadata": {
        "colab": {
          "base_uri": "https://localhost:8080/"
        },
        "id": "fVs_ANKfKmiz",
        "outputId": "9819f887-a5b5-44c6-f896-b76c09c9bb71"
      },
      "execution_count": 2,
      "outputs": [
        {
          "output_type": "stream",
          "name": "stdout",
          "text": [
            "Collecting cohere\n",
            "  Downloading cohere-4.56-py3-none-any.whl (52 kB)\n",
            "\u001b[2K     \u001b[90m━━━━━━━━━━━━━━━━━━━━━━━━━━━━━━━━━━━━━━━━\u001b[0m \u001b[32m52.7/52.7 kB\u001b[0m \u001b[31m567.3 kB/s\u001b[0m eta \u001b[36m0:00:00\u001b[0m\n",
            "\u001b[?25hRequirement already satisfied: aiohttp<4.0,>=3.0 in /usr/local/lib/python3.10/dist-packages (from cohere) (3.9.3)\n",
            "Collecting backoff<3.0,>=2.0 (from cohere)\n",
            "  Downloading backoff-2.2.1-py3-none-any.whl (15 kB)\n",
            "Collecting fastavro<2.0,>=1.8 (from cohere)\n",
            "  Downloading fastavro-1.9.4-cp310-cp310-manylinux_2_17_x86_64.manylinux2014_x86_64.whl (3.1 MB)\n",
            "\u001b[2K     \u001b[90m━━━━━━━━━━━━━━━━━━━━━━━━━━━━━━━━━━━━━━━━\u001b[0m \u001b[32m3.1/3.1 MB\u001b[0m \u001b[31m10.1 MB/s\u001b[0m eta \u001b[36m0:00:00\u001b[0m\n",
            "\u001b[?25hCollecting importlib_metadata<7.0,>=6.0 (from cohere)\n",
            "  Downloading importlib_metadata-6.11.0-py3-none-any.whl (23 kB)\n",
            "Requirement already satisfied: requests<3.0.0,>=2.25.0 in /usr/local/lib/python3.10/dist-packages (from cohere) (2.31.0)\n",
            "Requirement already satisfied: urllib3<3,>=1.26 in /usr/local/lib/python3.10/dist-packages (from cohere) (2.0.7)\n",
            "Requirement already satisfied: aiosignal>=1.1.2 in /usr/local/lib/python3.10/dist-packages (from aiohttp<4.0,>=3.0->cohere) (1.3.1)\n",
            "Requirement already satisfied: attrs>=17.3.0 in /usr/local/lib/python3.10/dist-packages (from aiohttp<4.0,>=3.0->cohere) (23.2.0)\n",
            "Requirement already satisfied: frozenlist>=1.1.1 in /usr/local/lib/python3.10/dist-packages (from aiohttp<4.0,>=3.0->cohere) (1.4.1)\n",
            "Requirement already satisfied: multidict<7.0,>=4.5 in /usr/local/lib/python3.10/dist-packages (from aiohttp<4.0,>=3.0->cohere) (6.0.5)\n",
            "Requirement already satisfied: yarl<2.0,>=1.0 in /usr/local/lib/python3.10/dist-packages (from aiohttp<4.0,>=3.0->cohere) (1.9.4)\n",
            "Requirement already satisfied: async-timeout<5.0,>=4.0 in /usr/local/lib/python3.10/dist-packages (from aiohttp<4.0,>=3.0->cohere) (4.0.3)\n",
            "Requirement already satisfied: zipp>=0.5 in /usr/local/lib/python3.10/dist-packages (from importlib_metadata<7.0,>=6.0->cohere) (3.18.0)\n",
            "Requirement already satisfied: charset-normalizer<4,>=2 in /usr/local/lib/python3.10/dist-packages (from requests<3.0.0,>=2.25.0->cohere) (3.3.2)\n",
            "Requirement already satisfied: idna<4,>=2.5 in /usr/local/lib/python3.10/dist-packages (from requests<3.0.0,>=2.25.0->cohere) (3.6)\n",
            "Requirement already satisfied: certifi>=2017.4.17 in /usr/local/lib/python3.10/dist-packages (from requests<3.0.0,>=2.25.0->cohere) (2024.2.2)\n",
            "Installing collected packages: importlib_metadata, fastavro, backoff, cohere\n",
            "  Attempting uninstall: importlib_metadata\n",
            "    Found existing installation: importlib_metadata 7.0.2\n",
            "    Uninstalling importlib_metadata-7.0.2:\n",
            "      Successfully uninstalled importlib_metadata-7.0.2\n",
            "Successfully installed backoff-2.2.1 cohere-4.56 fastavro-1.9.4 importlib_metadata-6.11.0\n"
          ]
        }
      ]
    },
    {
      "cell_type": "code",
      "source": [
        "pip install annoy"
      ],
      "metadata": {
        "colab": {
          "base_uri": "https://localhost:8080/"
        },
        "id": "b4UL_7TkKuLg",
        "outputId": "cde52b4d-4265-486e-ee90-6c17330b608c"
      },
      "execution_count": 4,
      "outputs": [
        {
          "output_type": "stream",
          "name": "stdout",
          "text": [
            "Collecting annoy\n",
            "  Downloading annoy-1.17.3.tar.gz (647 kB)\n",
            "\u001b[2K     \u001b[90m━━━━━━━━━━━━━━━━━━━━━━━━━━━━━━━━━━━━━━━━\u001b[0m \u001b[32m647.5/647.5 kB\u001b[0m \u001b[31m6.3 MB/s\u001b[0m eta \u001b[36m0:00:00\u001b[0m\n",
            "\u001b[?25h  Preparing metadata (setup.py) ... \u001b[?25l\u001b[?25hdone\n",
            "Building wheels for collected packages: annoy\n",
            "  Building wheel for annoy (setup.py) ... \u001b[?25l\u001b[?25hdone\n",
            "  Created wheel for annoy: filename=annoy-1.17.3-cp310-cp310-linux_x86_64.whl size=552450 sha256=7085aadefd705724d5880a562068e4806a36a0aa42dd41c118732bbba04f4207\n",
            "  Stored in directory: /root/.cache/pip/wheels/64/8a/da/f714bcf46c5efdcfcac0559e63370c21abe961c48e3992465a\n",
            "Successfully built annoy\n",
            "Installing collected packages: annoy\n",
            "Successfully installed annoy-1.17.3\n"
          ]
        }
      ]
    },
    {
      "cell_type": "code",
      "execution_count": 5,
      "metadata": {
        "id": "F7liOaHYEyIk"
      },
      "outputs": [],
      "source": [
        "import cohere\n",
        "import numpy as np\n",
        "import warnings\n",
        "warnings.filterwarnings('ignore')\n",
        "from annoy import AnnoyIndex\n",
        "import numpy as np\n",
        "import pandas as pd"
      ]
    },
    {
      "cell_type": "markdown",
      "source": [
        "#### Training the Embed model with my text data that it require to store and retrieve at the time of text generation"
      ],
      "metadata": {
        "id": "Fgdu5NX5LvEc"
      }
    },
    {
      "cell_type": "code",
      "source": [
        "#Sample prompt below\n",
        "question = \"Which Sydney beach should I visit?\"\n",
        "\n",
        "\n",
        "#Training data\n",
        "text = \"\"\"\n",
        "\n",
        "Sydney is world famous for beautiful beaches. These beaches offer different vibes and attractions, from bustling crowds and great surfing conditions to more tranquil and family-friendly environments.\n",
        "\n",
        "Bondi Beach: Bondi is perhaps the most famous beach in Sydney, if not Australia. It's known for its golden sands, vibrant atmosphere, and excellent surfing conditions. The Bondi to Coogee coastal walk offers stunning views of the coastline.\n",
        "\n",
        "Manly Beach: Easily accessible by a scenic ferry ride from Circular Quay, Manly Beach is known for its laid-back atmosphere and family-friendly environment. The beach is great for swimming, surfing, and various water sports.\n",
        "\n",
        "Cronulla Beach: Located in the Sutherland Shire, Cronulla offers a more relaxed atmosphere compared to some of the busier city beaches. It's a great spot for swimming, picnicking, and enjoying a range of seaside cafes and restaurants.\n",
        "\n",
        "Bronte Beach: Situated between Bondi and Coogee, Bronte Beach is popular among both locals and visitors. It's a smaller, quieter beach with a beautiful park area and a natural rock pool that's ideal for swimming.\n",
        "\n",
        "Tamarama Beach: Also known as \"Glamarama\" due to its popularity among the fashion-conscious crowd, Tamarama Beach is a smaller and more secluded option. It's surrounded by rocky cliffs and offers strong surf, making it a favorite among experienced surfers.\n",
        "\n",
        "\"\"\""
      ],
      "metadata": {
        "id": "eWQ-mzddKgGX"
      },
      "execution_count": 6,
      "outputs": []
    },
    {
      "cell_type": "markdown",
      "source": [
        "##### Performing tokenization process to reduce the data into tiny form of chunks called as tokens and converting the tokens into the form of vectors using the process of Embedding. After conversion, it stores it in the vector database.\n",
        "\n",
        "This helps for the model to easily understand the data in the form of vector spaces.\n",
        "\n",
        "Note: This text to text conversion is powered with Embed model from Cohere. I am using my own data to train this LLM as the model is already integrated with RAG and semantic search for generating accurate responses."
      ],
      "metadata": {
        "id": "S8pQ34rCMHCx"
      }
    },
    {
      "cell_type": "code",
      "source": [
        "# Split into a list of paragraphs\n",
        "texts = text.split('\\n\\n')\n",
        "\n",
        "# Clean up to remove empty spaces and new lines\n",
        "texts = np.array([t.strip(' \\n') for t in texts if t])\n",
        "\n",
        "\n",
        "# Using the API of Embed model from Cohere\n",
        "co = cohere.Client('PbrfoQaDsYWDOIcqctLKJjKUakayNAJudibQafl8')\n",
        "\n",
        "\n",
        "# Get the embeddings\n",
        "response = co.embed(\n",
        "\n",
        "    texts=texts.tolist(),\n",
        "\n",
        ").embeddings"
      ],
      "metadata": {
        "colab": {
          "base_uri": "https://localhost:8080/"
        },
        "id": "0eJELBq3LswO",
        "outputId": "9e07f06f-c79d-4955-ad07-153e18ff5a82"
      },
      "execution_count": 8,
      "outputs": [
        {
          "output_type": "stream",
          "name": "stderr",
          "text": [
            "default model on embed will be deprecated in the future, please specify a model in the request.\n"
          ]
        }
      ]
    },
    {
      "cell_type": "markdown",
      "source": [
        "##### Performing indexing to perform semantic search for specifying embedding vectors at each index for the model to retreive the necessary result."
      ],
      "metadata": {
        "id": "8K6LH_6DNJRL"
      }
    },
    {
      "cell_type": "code",
      "source": [
        "# Check the dimensions of the embeddings\n",
        "embeds = np.array(response)\n",
        "\n",
        "# Create the search index, pass the size of embedding\n",
        "search_index = AnnoyIndex(embeds.shape[1], 'angular')\n",
        "\n",
        "# Add all the vectors to the search index\n",
        "for i in range(len(embeds)):\n",
        "\n",
        "    search_index.add_item(i, embeds[i])\n",
        "\n",
        "search_index.build(10) # 10 trees\n",
        "search_index.save('test.ann')\n"
      ],
      "metadata": {
        "colab": {
          "base_uri": "https://localhost:8080/"
        },
        "id": "zujs5F92M4iZ",
        "outputId": "d054c37a-fb02-4d29-adad-f005fcd2fb22"
      },
      "execution_count": 9,
      "outputs": [
        {
          "output_type": "execute_result",
          "data": {
            "text/plain": [
              "True"
            ]
          },
          "metadata": {},
          "execution_count": 9
        }
      ]
    },
    {
      "cell_type": "markdown",
      "source": [
        "Collecting the embedding for to retreive certain similar information for generating output."
      ],
      "metadata": {
        "id": "AMHpyrg0ODeS"
      }
    },
    {
      "cell_type": "code",
      "source": [
        "def search_text(query):\n",
        "\n",
        "    # Get the query's embedding for the model to recognize the prompt and compare the prompt with the vectors in embedding space\n",
        "    query_embed = co.embed(texts=[query]).embeddings\n",
        "\n",
        "\n",
        "\n",
        "    # Retrieve the nearest neighbors for finding similiar texts\n",
        "    similar_item_ids = search_index.get_nns_by_vector(query_embed[0],\n",
        "\n",
        "                                                    10,\n",
        "\n",
        "                                                  include_distances=True)\n",
        "\n",
        "\n",
        "\n",
        "    search_results = texts[similar_item_ids[0]]\n",
        "\n",
        "\n",
        "\n",
        "    return search_results"
      ],
      "metadata": {
        "id": "1bPK282SNcDm"
      },
      "execution_count": 10,
      "outputs": []
    },
    {
      "cell_type": "code",
      "source": [
        "results = search_text(question)\n",
        "\n",
        "print(results[0])"
      ],
      "metadata": {
        "colab": {
          "base_uri": "https://localhost:8080/"
        },
        "id": "bZNk_76hORXR",
        "outputId": "7557ae20-cf7d-4fbe-ac0a-f0e6b8b09c17"
      },
      "execution_count": 11,
      "outputs": [
        {
          "output_type": "stream",
          "name": "stderr",
          "text": [
            "default model on embed will be deprecated in the future, please specify a model in the request.\n"
          ]
        },
        {
          "output_type": "stream",
          "name": "stdout",
          "text": [
            "Bondi Beach: Bondi is perhaps the most famous beach in Sydney, if not Australia. It's known for its golden sands, vibrant atmosphere, and excellent surfing conditions. The Bondi to Coogee coastal walk offers stunning views of the coastline.\n"
          ]
        }
      ]
    },
    {
      "cell_type": "code",
      "source": [
        "def ask_llm(question, num_generations=1):\n",
        "\n",
        "    # Search the text archive\n",
        "\n",
        "    results = search_text(question)\n",
        "\n",
        "\n",
        "    # Get the top result\n",
        "\n",
        "    context = results[0]\n",
        "\n",
        "\n",
        "    # Prepare the prompt\n",
        "\n",
        "    prompt = f\"\"\"\n",
        "\n",
        "    More information about Australian beaches at australia.com:\n",
        "\n",
        "    {context}\n",
        "\n",
        "    Question: {question}\n",
        "\n",
        "\n",
        "\n",
        "    Extract the answer of the question from the text provided.\n",
        "\n",
        "    If the text doesn't contain the answer,\n",
        "\n",
        "    reply that the answer is not available.\"\"\"\n",
        "\n",
        "\n",
        "\n",
        "    prediction = co.generate(\n",
        "\n",
        "        prompt=prompt,\n",
        "\n",
        "        max_tokens=70,\n",
        "\n",
        "        model=\"command-nightly\",\n",
        "\n",
        "        temperature=0.5,\n",
        "\n",
        "        num_generations=num_generations\n",
        "\n",
        "    )\n",
        "    return prediction.generations"
      ],
      "metadata": {
        "id": "BOYIQ6MtOqT1"
      },
      "execution_count": 12,
      "outputs": []
    },
    {
      "cell_type": "code",
      "source": [
        "results = ask_llm(question,)\n",
        "\n",
        "print(results[0])"
      ],
      "metadata": {
        "colab": {
          "base_uri": "https://localhost:8080/"
        },
        "id": "aEIDX_QmQVEk",
        "outputId": "f8d07542-3721-478b-dfcb-79401d36fb8b"
      },
      "execution_count": 13,
      "outputs": [
        {
          "output_type": "stream",
          "name": "stderr",
          "text": [
            "default model on embed will be deprecated in the future, please specify a model in the request.\n"
          ]
        },
        {
          "output_type": "stream",
          "name": "stdout",
          "text": [
            "Bondi Beach is recommended as a great beach to visit in Sydney with its golden sands, vibrant atmosphere and excellent surfing conditions. It is considered by many to be one of the most famous beaches, not just in Australia but worldwide.\n"
          ]
        }
      ]
    },
    {
      "cell_type": "markdown",
      "source": [
        "Now the model is ready after giving it a text data and stored the vectors in the embedding database."
      ],
      "metadata": {
        "id": "tbT3LMWMRklo"
      }
    },
    {
      "cell_type": "code",
      "source": [
        "question = \"Which Sydney beach is for family?\"\n",
        "results = ask_llm(question,)\n",
        "print(results[0])"
      ],
      "metadata": {
        "colab": {
          "base_uri": "https://localhost:8080/"
        },
        "id": "dYn72bcYQa8w",
        "outputId": "86346596-1722-47c9-f95d-c9527119aba2"
      },
      "execution_count": 14,
      "outputs": [
        {
          "output_type": "stream",
          "name": "stderr",
          "text": [
            "default model on embed will be deprecated in the future, please specify a model in the request.\n"
          ]
        },
        {
          "output_type": "stream",
          "name": "stdout",
          "text": [
            "The answer is not available.  It seems like a more specific question about Sydney beaches and their attributes would be helpful.  Are you looking for a particular type of family-friendly environment?   It may also be useful to know what is considered a family-friendly beach in your opinion.  \n"
          ]
        }
      ]
    },
    {
      "cell_type": "code",
      "source": [
        "question = \"Sydney is considered as the family-friendly environment beaches, have you got it now?\"\n",
        "results = ask_llm(question,)\n",
        "print(results[0])"
      ],
      "metadata": {
        "colab": {
          "base_uri": "https://localhost:8080/"
        },
        "id": "PLX1bodqQrR-",
        "outputId": "eb5fea72-48ba-4909-931c-067cb3797062"
      },
      "execution_count": 17,
      "outputs": [
        {
          "output_type": "stream",
          "name": "stderr",
          "text": [
            "default model on embed will be deprecated in the future, please specify a model in the request.\n"
          ]
        },
        {
          "output_type": "stream",
          "name": "stdout",
          "text": [
            "Sydney's beaches offer a variety of experiences, including family-friendly environments.\n"
          ]
        }
      ]
    },
    {
      "cell_type": "code",
      "source": [
        "question = \"Which Sydney beach has a rock pool?\"\n",
        "results = ask_llm(question,)\n",
        "print(results[0])"
      ],
      "metadata": {
        "colab": {
          "base_uri": "https://localhost:8080/"
        },
        "id": "-OOzO_BwQ7I7",
        "outputId": "b0670de6-9f0c-4d32-aa11-f7fdae5dc5a1"
      },
      "execution_count": 18,
      "outputs": [
        {
          "output_type": "stream",
          "name": "stderr",
          "text": [
            "default model on embed will be deprecated in the future, please specify a model in the request.\n"
          ]
        },
        {
          "output_type": "stream",
          "name": "stdout",
          "text": [
            "Bronte Beach is the Sydney beach with a rock pool.\n"
          ]
        }
      ]
    },
    {
      "cell_type": "code",
      "source": [],
      "metadata": {
        "id": "IANH5KRIRfy4"
      },
      "execution_count": null,
      "outputs": []
    }
  ]
}